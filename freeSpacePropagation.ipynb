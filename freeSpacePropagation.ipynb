{
 "cells": [
  {
   "cell_type": "markdown",
   "metadata": {},
   "source": [
    "Définition de la fonction de propagation:"
   ]
  },
  {
   "cell_type": "code",
   "execution_count": null,
   "metadata": {
    "collapsed": true
   },
   "outputs": [],
   "source": [
    "#This function should propagate the input field of size Lx, Ly by a distance of z\n",
    "\n",
    "def propagate(inputField, z, Lx, Ly): \n",
    "    Nx = len(inputField[0]) #number of pixels\n",
    "    Ny = len(inputField)\n",
    "    dx = Lx/Nx #size of a pixel\n",
    "    dy = Ly/Ny\n",
    "\n",
    "    FTinputField = np.fft.fft2(inputField)  #FFT of input\n",
    "\n",
    "    FTinputField = np.fft.fftshift(FTinputField)\n",
    "\n",
    "    X = [dx*k-Lx/2 for k in range(0,Nx)]\n",
    "    Y = [dx*k-Ly/2 for k in range(0,Ny)]\n",
    "    \n",
    "    # We define hPropagation, the free space impulse response (eq 3.3-11 de P&B)\n",
    "    \n",
    "    hPropagation = np.array([[0+0j]*Nx]*Ny)\n",
    "    for x in range(0,Nx):\n",
    "        for y in range(0,Ny):\n",
    "            hPropagation[x][y] = np.exp(-1j*k0*z)*1j*k0/(2*np.pi*z)*np.exp(-1j*k0*(X[x]**2+Y[y]**2)/(2*z))\n",
    "\n",
    "    Hpropagation = np.fft.fft2(hPropagation) #FFT of hPropagation\n",
    "    Hpropagation = np.fft.fftshift(Hpropagation)\n",
    "    \n",
    "    FToutputField = FTinputField*Hpropagation\n",
    "\n",
    "    outputField = np.fft.ifft2(FToutputField) #iFFT of TFoutputfield\n",
    "    outputField = np.fft.fftshift(outputField)\n",
    "    return outputField"
   ]
  },
  {
   "cell_type": "code",
   "execution_count": 5,
   "metadata": {},
   "outputs": [
    {
     "data": {
      "text/latex": [
       "$$\\psi_p(x,y,z) = \\psi_{p0}(x,y) * h(x,y,;z)$$\n"
      ],
      "text/plain": [
       "<IPython.core.display.Latex object>"
      ]
     },
     "metadata": {},
     "output_type": "display_data"
    }
   ],
   "source": [
    "%%latex \n",
    "$$\\psi_p(x,y,z) = \\psi_{p0}(x,y) * h(x,y,;z)$$\n",
    "\n"
   ]
  },
  {
   "cell_type": "code",
   "execution_count": null,
   "metadata": {
    "collapsed": true
   },
   "outputs": [],
   "source": []
  }
 ],
 "metadata": {
  "kernelspec": {
   "display_name": "Python 3",
   "language": "python",
   "name": "python3"
  },
  "language_info": {
   "codemirror_mode": {
    "name": "ipython",
    "version": 3
   },
   "file_extension": ".py",
   "mimetype": "text/x-python",
   "name": "python",
   "nbconvert_exporter": "python",
   "pygments_lexer": "ipython3",
   "version": "3.5.0"
  }
 },
 "nbformat": 4,
 "nbformat_minor": 2
}
